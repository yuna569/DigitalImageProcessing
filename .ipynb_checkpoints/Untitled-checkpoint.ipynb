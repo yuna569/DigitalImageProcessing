{
 "cells": [
  {
   "cell_type": "code",
   "execution_count": 5,
   "id": "542f9a78",
   "metadata": {},
   "outputs": [],
   "source": [
    "import cv2\n",
    "import numpy as np\n",
    "import matplotlib.pyplot as plt"
   ]
  },
  {
   "cell_type": "code",
   "execution_count": null,
   "id": "ed5c3e8a",
   "metadata": {},
   "outputs": [],
   "source": [
    "def yellow_mask(path):\n",
    "    capture = cv2.VideoCapture(path)\n",
    "    \n",
    "    run, frame = capture.read()\n",
    "        \n",
    "    h, w, _ = frame.shape\n",
    "        \n",
    "    mask = np.zeros((h, w), dtype=np.uint8)\n",
    "        \n",
    "    for i in range(h):\n",
    "        for j in range(w):\n",
    "            b, g, r = frame[i, j]\n",
    "            if (r >= 230 and r <= 255 and g >= 150 and g <= 250 and b >= 100 and b <= 200):\n",
    "                mask[i, j] = 0\n",
    "            else:\n",
    "                mask[i, j] = 255\n",
    "                \n",
    "    return mask"
   ]
  },
  {
   "cell_type": "code",
   "execution_count": null,
   "id": "f14a3864",
   "metadata": {},
   "outputs": [],
   "source": [
    "def load_video(path, ms=1): # ms : 프레임 하나당 기다리는 시간(밀리초)\n",
    "    \n",
    "    # Video Capture 객체 생성\n",
    "    capture = cv2.VideoCapture(path)\n",
    "    \n",
    "    # Frame을 저장할 List 선언\n",
    "    frames = []\n",
    "    \n",
    "    while capture.isOpened(): # Video Capture가 준비되었는지 확인\n",
    "        \n",
    "        run, frame = capture.read() # 다음 Frame 읽기\n",
    "        \n",
    "        if run: # Frame을 읽은 경우\n",
    "            '''\n",
    "            마스크를 적용하여 새로운 이미지 생성\n",
    "            new = cv2.bitwise_and(frame, frame, mask=mask)\n",
    "            '''\n",
    "            mask = yellow_mask(path)\n",
    "            cv2.imshow(\"video\", mask)\n",
    "            cv2.waitKey(ms) # Millisecond 단위로 대기\n",
    "        else: # 재생이 완료되어 더 이상 Frame을 읽을 수 없는 경우\n",
    "            break\n",
    "        \n",
    "        # Frame List에 추가\n",
    "        frames.append(frame)\n",
    "\n",
    "    capture.release() # Capture 자원 반납\n",
    "    cv2.destroyAllWindows() # 창 제거\n",
    "    \n",
    "    return np.array(frames, dtype='uint8')"
   ]
  },
  {
   "cell_type": "code",
   "execution_count": null,
   "id": "98695165",
   "metadata": {},
   "outputs": [],
   "source": [
    "# Video가 저장된 경로 입력\n",
    "PATH = \"/Users/yuna/Homework/IMG_3644.mov\"\n",
    "\n",
    "# Video 재생 및 반환 (Numpy Array)\n",
    "#video = load_video(path, ms=1)\n",
    "load_video(PATH)"
   ]
  }
 ],
 "metadata": {
  "kernelspec": {
   "display_name": "Python 3 (ipykernel)",
   "language": "python",
   "name": "python3"
  },
  "language_info": {
   "codemirror_mode": {
    "name": "ipython",
    "version": 3
   },
   "file_extension": ".py",
   "mimetype": "text/x-python",
   "name": "python",
   "nbconvert_exporter": "python",
   "pygments_lexer": "ipython3",
   "version": "3.11.7"
  }
 },
 "nbformat": 4,
 "nbformat_minor": 5
}
