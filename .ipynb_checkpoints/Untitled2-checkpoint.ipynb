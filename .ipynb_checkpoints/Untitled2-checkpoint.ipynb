{
 "cells": [
  {
   "cell_type": "code",
   "execution_count": 40,
   "id": "28d89f25",
   "metadata": {},
   "outputs": [],
   "source": [
    "import cv2\n",
    "import numpy as np"
   ]
  },
  {
   "cell_type": "code",
   "execution_count": 52,
   "id": "f7b8e732",
   "metadata": {},
   "outputs": [],
   "source": [
    "# 입력 동영상 파일 경로\n",
    "input_file = \"/Users/yuna/Homework/IMG_3644.mov\"\n",
    "original = \"/Users/yuna/Homework/BrailleBlockOriginal.jpeg\"\n",
    "\n",
    "# 특정 색상 범위 설정 (예: 노란색)\n",
    "lower_yellow = np.array([10, 20, 200])  # 범위의 하한값 (HSV 형식)\n",
    "upper_yellow = np.array([30, 80, 255])  # 범위의 상한값 (HSV 형식)\n",
    "\n",
    "# 비디오 캡처 객체 생성\n",
    "cap = cv2.VideoCapture(input_file)\n",
    "\n",
    "orig = cv2.imread(original, 0)\n",
    "\n",
    "# 영상의 너비와 높이 가져오기\n",
    "width = int(cap.get(cv2.CAP_PROP_FRAME_WIDTH))\n",
    "height = int(cap.get(cv2.CAP_PROP_FRAME_HEIGHT))\n",
    "\n",
    "# 동영상의 프레임 레이트 가져오기\n",
    "fps = cap.get(cv2.CAP_PROP_FPS)\n",
    "frame_interval = int(fps * 10)  # 10초마다 프레임 추출cv2.fillPoly(traMask, [pts], 255)"
   ]
  },
  {
   "cell_type": "code",
   "execution_count": 42,
   "id": "9e6dceb4",
   "metadata": {},
   "outputs": [],
   "source": [
    "def yellow_mask(frame):\n",
    "    \"\"\"\n",
    "    입력된 프레임에 특정 색상 범위에 해당하는 마스크를 적용합니다.\n",
    "    \n",
    "    :param frame: 입력 프레임 (BGR 형식)\n",
    "    :param lower_color: 색상 범위의 하한값 (HSV 형식)\n",
    "    :param upper_color: 색상 범위의 상한값 (HSV 형식)\n",
    "    :return: 색상 마스크\n",
    "    \"\"\"\n",
    "    # 입력된 프레임을 HSV 형식으로 변환\n",
    "    hsv_frame = cv2.cvtColor(frame, cv2.COLOR_BGR2HSV)\n",
    "    \n",
    "    # 색상 범위에 해당하는 마스크 생성\n",
    "    mask = cv2.inRange(hsv_frame, lower_yellow, upper_yellow)\n",
    "    \n",
    "    return mask"
   ]
  },
  {
   "cell_type": "code",
   "execution_count": 43,
   "id": "d35ea163",
   "metadata": {},
   "outputs": [],
   "source": [
    "def histogram_equalization(frame):\n",
    "    \"\"\"\n",
    "    입력된 프레임에 히스토그램 평활화를 적용합니다.\n",
    "    \n",
    "    :param frame: 입력 프레임\n",
    "    :return: 히스토그램 평활화가 적용된 프레임\n",
    "    \"\"\"\n",
    "    # 입력 프레임을 그레이 스케일로 변환\n",
    "    gray_frame = cv2.cvtColor(frame, cv2.COLOR_BGR2GRAY)\n",
    "    \n",
    "    # 히스토그램 평활화 적용\n",
    "    equalized_frame = cv2.equalizeHist(gray_frame)\n",
    "    \n",
    "    return equalized_frame"
   ]
  },
  {
   "cell_type": "code",
   "execution_count": 44,
   "id": "dfcf1070",
   "metadata": {},
   "outputs": [],
   "source": [
    "def otsu_thresholding(mask):\n",
    "    \"\"\"\n",
    "    Otsu의 이진화를 적용하여 이진 마스크를 생성합니다.\n",
    "    \n",
    "    :param mask: 입력 마스크\n",
    "    :return: Otsu의 이진화가 적용된 마스크\n",
    "    \"\"\"\n",
    "    # Otsu의 이진화 적용\n",
    "    _, otsu_mask = cv2.threshold(mask, 0, 255, cv2.THRESH_BINARY + cv2.THRESH_OTSU)\n",
    "    return otsu_mask"
   ]
  },
  {
   "cell_type": "code",
   "execution_count": 45,
   "id": "baadbb8d",
   "metadata": {},
   "outputs": [],
   "source": [
    "def apply_morphology(mask):\n",
    "    \"\"\"\n",
    "    입력된 마스크에 모폴로지 연산을 적용합니다.\n",
    "    \n",
    "    :param mask: 이진 마스크\n",
    "    :return: 모폴로지 연산이 적용된 마스크\n",
    "    \"\"\"\n",
    "    # 커널 생성\n",
    "    kernel = np.ones((5, 5), np.uint8)\n",
    "    \n",
    "    # motphology 연산 적용 (잡음 제거)\n",
    "    result = cv2.dilate(mask, kernel, iterations=1)\n",
    "    result = cv2.dilate(result, kernel, iterations=1)\n",
    "    result = cv2.dilate(result, kernel, iterations=1)\n",
    "    #result = cv2.erode(result, kernel, iterations=1)\n",
    "    \n",
    "    return result"
   ]
  },
  {
   "cell_type": "code",
   "execution_count": 46,
   "id": "64549047",
   "metadata": {},
   "outputs": [],
   "source": [
    "def process_frame(frame):\n",
    "    \"\"\"\n",
    "    주어진 프레임에 연결 성분 레이블링을 적용합니다.\n",
    "    \n",
    "    :param frame: 입력 프레임 (BGR 형식)\n",
    "    :return: 레이블링된 결과 프레임 (BGR 형식)\n",
    "    \"\"\"\n",
    "    # 그레이스케일로 변환\n",
    "    gray = cv2.cvtColor(frame, cv2.COLOR_BGR2GRAY)\n",
    "    \n",
    "    # 이진화\n",
    "    _, binary_image = cv2.threshold(gray, 127, 255, cv2.THRESH_BINARY)\n",
    "    \n",
    "    # 연결 성분 레이블링\n",
    "    num_labels, labels_im = cv2.connectedComponents(binary_image)\n",
    "    \n",
    "    # 레이블링된 결과를 색상 이미지로 변환하여 시각화\n",
    "    label_hue = np.uint8(179 * labels_im / np.max(labels_im))\n",
    "    blank_ch = 255 * np.ones_like(label_hue)\n",
    "    labeled_img = cv2.merge([label_hue, blank_ch, blank_ch])\n",
    "\n",
    "    # HSV에서 BGR로 변환\n",
    "    labeled_img = cv2.cvtColor(labeled_img, cv2.COLOR_HSV2BGR)\n",
    "    \n",
    "    # 배경을 검정으로 변환\n",
    "    labeled_img[label_hue == 0] = 0\n",
    "    \n",
    "    return labeled_img"
   ]
  },
  {
   "cell_type": "code",
   "execution_count": 47,
   "id": "9f3b19b7",
   "metadata": {},
   "outputs": [],
   "source": [
    "def braille_detection(frame):\n",
    "     # 사다리꼴 모양의 마스크 생성\n",
    "    traMask = np.zeros((height, width), dtype=np.uint8)\n",
    "    pts = np.array([[0, 1500], [width-100, 1500], [width-300, 500], [300, 600]], dtype=np.int32)\n",
    "    \n",
    "    # 마스크 적용\n",
    "    frame = cv2.bitwise_and(frame, frame, mask=traMask)\n",
    "    \n",
    "    # 히스토그램 평활화 적용\n",
    "    equalized_frame = histogram_equalization(frame)\n",
    "    \n",
    "    # 특정 색상 범위에 해당하는 마스크 적용\n",
    "    color_mask = yellow_mask(frame)\n",
    "    \n",
    "    # Otsu의 이진화 적용\n",
    "    otsu_mask = otsu_thresholding(color_mask)\n",
    "    \n",
    "    # 마스크를 적용하여 특정 색상만 남기고 나머지는 가리기\n",
    "    masked_frame = cv2.bitwise_and(frame, frame, mask=otsu_mask)\n",
    "    \n",
    "    # 연결 성분 레이블링 적용\n",
    "    labeled_frame = process_frame(masked_frame)\n",
    "\n",
    "    # 모폴로지 연산 적용\n",
    "    new = apply_morphology(labeled_frame)\n",
    "    \n",
    "    return new"
   ]
  },
  {
   "cell_type": "code",
   "execution_count": 50,
   "id": "82cdab73",
   "metadata": {},
   "outputs": [],
   "source": [
    "def load_video():\n",
    "    # 동영상 프레임 처리\n",
    "    count = 0\n",
    "    while cap.isOpened():\n",
    "        count += 1\n",
    "        ret, frame = cap.read()\n",
    "        if not ret:\n",
    "            break\n",
    "\n",
    "        new = braille_detection(frame)\n",
    "        orig = braille_detection(original)\n",
    "    \n",
    "        if count % frame_interval == 0:\n",
    "            cv2.absdiff(new, orig)\n",
    "            dif = new - original\n",
    "            np.array(dif)\n",
    "            total = np.sum(dif)\n",
    "            if (total > 300000):\n",
    "                print(\"Beep\")\n",
    "    \n",
    "        # 결과 프레임 표시\n",
    "        cv2.imshow('Masked Equalized and Labeled Video', new)\n",
    "    \n",
    "        # 종료를 위한 키 입력 처리\n",
    "        if cv2.waitKey(1) & 0xFF == ord('q'):  # 1ms 대기 (더 빠르게 재생)\n",
    "            break"
   ]
  },
  {
   "cell_type": "code",
   "execution_count": 51,
   "id": "3d350673",
   "metadata": {},
   "outputs": [
    {
     "name": "stderr",
     "output_type": "stream",
     "text": [
      "/var/folders/n9/7h5phywx43537thdz_87qp3c0000gn/T/ipykernel_16578/1359856594.py:18: RuntimeWarning: invalid value encountered in divide\n",
      "  label_hue = np.uint8(179 * labels_im / np.max(labels_im))\n",
      "/var/folders/n9/7h5phywx43537thdz_87qp3c0000gn/T/ipykernel_16578/1359856594.py:18: RuntimeWarning: invalid value encountered in cast\n",
      "  label_hue = np.uint8(179 * labels_im / np.max(labels_im))\n"
     ]
    },
    {
     "ename": "error",
     "evalue": "OpenCV(4.9.0) :-1: error: (-5:Bad argument) in function 'bitwise_and'\n> Overload resolution failed:\n>  - src1 is not a numpy array, neither a scalar\n>  - Expected Ptr<cv::UMat> for argument 'src1'\n",
     "output_type": "error",
     "traceback": [
      "\u001b[0;31m---------------------------------------------------------------------------\u001b[0m",
      "\u001b[0;31merror\u001b[0m                                     Traceback (most recent call last)",
      "Cell \u001b[0;32mIn[51], line 1\u001b[0m\n\u001b[0;32m----> 1\u001b[0m load_video()\n",
      "Cell \u001b[0;32mIn[50], line 11\u001b[0m, in \u001b[0;36mload_video\u001b[0;34m()\u001b[0m\n\u001b[1;32m      8\u001b[0m     \u001b[38;5;28;01mbreak\u001b[39;00m\n\u001b[1;32m     10\u001b[0m new \u001b[38;5;241m=\u001b[39m braille_detection(frame)\n\u001b[0;32m---> 11\u001b[0m orig \u001b[38;5;241m=\u001b[39m braille_detection(original)\n\u001b[1;32m     13\u001b[0m \u001b[38;5;28;01mif\u001b[39;00m count \u001b[38;5;241m%\u001b[39m frame_interval \u001b[38;5;241m==\u001b[39m \u001b[38;5;241m0\u001b[39m:\n\u001b[1;32m     14\u001b[0m     cv2\u001b[38;5;241m.\u001b[39mabsdiff(new, orig)\n",
      "Cell \u001b[0;32mIn[47], line 3\u001b[0m, in \u001b[0;36mbraille_detection\u001b[0;34m(frame)\u001b[0m\n\u001b[1;32m      1\u001b[0m \u001b[38;5;28;01mdef\u001b[39;00m \u001b[38;5;21mbraille_detection\u001b[39m(frame):\n\u001b[1;32m      2\u001b[0m     \u001b[38;5;66;03m# 마스크 적용\u001b[39;00m\n\u001b[0;32m----> 3\u001b[0m     frame \u001b[38;5;241m=\u001b[39m cv2\u001b[38;5;241m.\u001b[39mbitwise_and(frame, frame, mask\u001b[38;5;241m=\u001b[39mtraMask)\n\u001b[1;32m      5\u001b[0m     \u001b[38;5;66;03m# 히스토그램 평활화 적용\u001b[39;00m\n\u001b[1;32m      6\u001b[0m     equalized_frame \u001b[38;5;241m=\u001b[39m histogram_equalization(frame)\n",
      "\u001b[0;31merror\u001b[0m: OpenCV(4.9.0) :-1: error: (-5:Bad argument) in function 'bitwise_and'\n> Overload resolution failed:\n>  - src1 is not a numpy array, neither a scalar\n>  - Expected Ptr<cv::UMat> for argument 'src1'\n"
     ]
    }
   ],
   "source": [
    "load_video()"
   ]
  },
  {
   "cell_type": "code",
   "execution_count": 25,
   "id": "ce7253e3",
   "metadata": {},
   "outputs": [
    {
     "data": {
      "text/plain": [
       "-1"
      ]
     },
     "execution_count": 25,
     "metadata": {},
     "output_type": "execute_result"
    }
   ],
   "source": [
    "# 파일 닫기\n",
    "cap.release()\n",
    "cv2.destroyAllWindows()\n",
    "cv2.waitKey(1)"
   ]
  }
 ],
 "metadata": {
  "kernelspec": {
   "display_name": "Python 3 (ipykernel)",
   "language": "python",
   "name": "python3"
  },
  "language_info": {
   "codemirror_mode": {
    "name": "ipython",
    "version": 3
   },
   "file_extension": ".py",
   "mimetype": "text/x-python",
   "name": "python",
   "nbconvert_exporter": "python",
   "pygments_lexer": "ipython3",
   "version": "3.11.7"
  }
 },
 "nbformat": 4,
 "nbformat_minor": 5
}
