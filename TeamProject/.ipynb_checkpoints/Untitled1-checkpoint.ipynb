{
 "cells": [
  {
   "cell_type": "code",
   "execution_count": 1,
   "id": "215a5889",
   "metadata": {},
   "outputs": [],
   "source": [
    "import cv2\n",
    "import numpy as np"
   ]
  },
  {
   "cell_type": "code",
   "execution_count": 2,
   "id": "254ccaca",
   "metadata": {},
   "outputs": [],
   "source": [
    "def apply_color_mask(frame, lower_color, upper_color):\n",
    "    \"\"\"\n",
    "    입력된 프레임에 특정 색상 범위에 해당하는 마스크를 적용합니다.\n",
    "    \n",
    "    :param frame: 입력 프레임 (BGR 형식)\n",
    "    :param lower_color: 색상 범위의 하한값 (HSV 형식)\n",
    "    :param upper_color: 색상 범위의 상한값 (HSV 형식)\n",
    "    :return: 색상 마스크\n",
    "    \"\"\"\n",
    "    # 입력된 프레임을 HSV 형식으로 변환\n",
    "    hsv_frame = cv2.cvtColor(frame, cv2.COLOR_BGR2HSV)\n",
    "    \n",
    "    # 색상 범위에 해당하는 마스크 생성\n",
    "    mask = cv2.inRange(hsv_frame, lower_color, upper_color)\n",
    "    \n",
    "    return mask"
   ]
  },
  {
   "cell_type": "code",
   "execution_count": 3,
   "id": "1a409708",
   "metadata": {},
   "outputs": [],
   "source": [
    "def histogram_equalization(frame):\n",
    "    \"\"\"\n",
    "    입력된 프레임에 히스토그램 평활화를 적용합니다.\n",
    "    \n",
    "    :param frame: 입력 프레임\n",
    "    :return: 히스토그램 평활화가 적용된 프레임\n",
    "    \"\"\"\n",
    "    # 입력 프레임을 그레이 스케일로 변환\n",
    "    gray_frame = cv2.cvtColor(frame, cv2.COLOR_BGR2GRAY)\n",
    "    \n",
    "    # 히스토그램 평활화 적용\n",
    "    equalized_frame = cv2.equalizeHist(gray_frame)\n",
    "    \n",
    "    return equalized_frame"
   ]
  },
  {
   "cell_type": "code",
   "execution_count": 4,
   "id": "7b2fceaa",
   "metadata": {},
   "outputs": [],
   "source": [
    "def apply_morphology(mask):\n",
    "    \"\"\"\n",
    "    입력된 마스크에 모폴로지 연산을 적용합니다.\n",
    "    \n",
    "    :param mask: 이진 마스크\n",
    "    :return: 모폴로지 연산이 적용된 마스크\n",
    "    \"\"\"\n",
    "    # 커널 생성\n",
    "    kernel = np.ones((5, 5), np.uint8)\n",
    "    \n",
    "    # motphology 연산 적용 (잡음 제거)\n",
    "    result = cv2.dilate(mask, kernel, iterations=1)\n",
    "    result = cv2.dilate(result, kernel, iterations=1)\n",
    "    result = cv2.dilate(result, kernel, iterations=1)\n",
    "    #result = cv2.erode(result, kernel, iterations=1)\n",
    "    \n",
    "    return result"
   ]
  },
  {
   "cell_type": "code",
   "execution_count": 6,
   "id": "eb06a5c0",
   "metadata": {},
   "outputs": [],
   "source": [
    "def process_frame(frame):\n",
    "    \"\"\"\n",
    "    주어진 프레임에 연결 성분 레이블링을 적용합니다.\n",
    "    \n",
    "    :param frame: 입력 프레임 (BGR 형식)\n",
    "    :return: 레이블링된 결과 프레임 (BGR 형식)\n",
    "    \"\"\"\n",
    "    # 그레이스케일로 변환\n",
    "    gray = cv2.cvtColor(frame, cv2.COLOR_BGR2GRAY)\n",
    "    \n",
    "    # 이진화\n",
    "    _, binary_image = cv2.threshold(gray, 127, 255, cv2.THRESH_BINARY)\n",
    "    \n",
    "    # 연결 성분 레이블링\n",
    "    num_labels, labels_im = cv2.connectedComponents(binary_image)\n",
    "    \n",
    "    # 레이블링된 결과를 색상 이미지로 변환하여 시각화\n",
    "    label_hue = np.uint8(179 * labels_im / np.max(labels_im))\n",
    "    blank_ch = 255 * np.ones_like(label_hue)\n",
    "    labeled_img = cv2.merge([label_hue, blank_ch, blank_ch])\n",
    "\n",
    "    # HSV에서 BGR로 변환\n",
    "    labeled_img = cv2.cvtColor(labeled_img, cv2.COLOR_HSV2BGR)\n",
    "    \n",
    "    # 배경을 검정으로 변환\n",
    "    labeled_img[label_hue == 0] = 0\n",
    "    \n",
    "    return labeled_img"
   ]
  },
  {
   "cell_type": "code",
   "execution_count": 7,
   "id": "0c6f4af2",
   "metadata": {},
   "outputs": [
    {
     "data": {
      "text/plain": [
       "array([[0, 0, 0, ..., 0, 0, 0],\n",
       "       [0, 0, 0, ..., 0, 0, 0],\n",
       "       [0, 0, 0, ..., 0, 0, 0],\n",
       "       ...,\n",
       "       [0, 0, 0, ..., 0, 0, 0],\n",
       "       [0, 0, 0, ..., 0, 0, 0],\n",
       "       [0, 0, 0, ..., 0, 0, 0]], dtype=uint8)"
      ]
     },
     "execution_count": 7,
     "metadata": {},
     "output_type": "execute_result"
    }
   ],
   "source": [
    "# 입력 동영상 파일 경로\n",
    "input_file = \"/Users/yuna/Homework/IMG_3644.mov\"\n",
    "\n",
    "# 특정 색상 범위 설정 (예: 노란색)\n",
    "lower_blue = np.array([25, 0, 0])  # 범위의 하한값 (HSV 형식)\n",
    "upper_blue = np.array([35, 100, 255])  # 범위의 상한값 (HSV 형식)\n",
    "\n",
    "# 비디오 캡처 객체 생성\n",
    "cap = cv2.VideoCapture(input_file)\n",
    "\n",
    "# 영상의 너비와 높이 가져오기\n",
    "width = int(cap.get(cv2.CAP_PROP_FRAME_WIDTH))\n",
    "height = int(cap.get(cv2.CAP_PROP_FRAME_HEIGHT))\n",
    "\n",
    " # 사다리꼴 모양의 마스크 생성\n",
    "traMask = np.zeros((height, width), dtype=np.uint8)\n",
    "pts = np.array([[0, 1500], [width-100, 1500], [width-300, 500], [300, 600]], dtype=np.int32)\n",
    "cv2.fillPoly(traMask, [pts], 255)"
   ]
  },
  {
   "cell_type": "code",
   "execution_count": 8,
   "id": "00400c47",
   "metadata": {},
   "outputs": [],
   "source": [
    "# 동영상 프레임 처리\n",
    "while cap.isOpened():\n",
    "    ret, frame = cap.read()\n",
    "    if not ret:\n",
    "        break\n",
    "\n",
    "     # 마스크 적용\n",
    "    frame = cv2.bitwise_and(frame, frame, mask=traMask)\n",
    "    \n",
    "    # 히스토그램 평활화 적용\n",
    "    equalized_frame = histogram_equalization(frame)\n",
    "    \n",
    "    # 입력된 프레임에 특정 색상 범위에 해당하는 마스크를 적용\n",
    "    mask = apply_color_mask(frame, lower_blue, upper_blue)\n",
    "    \n",
    "    # 모폴로지 연산 적용\n",
    "    morph_mask = apply_morphology(mask)\n",
    "    \n",
    "    # 마스크를 적용하여 특정 색상만 남기고 나머지는 가리기\n",
    "    masked_frame = cv2.bitwise_and(frame, frame, mask=morph_mask)\n",
    "    \n",
    "    # 연결 성분 레이블링 적용\n",
    "    labeled_frame = process_frame(masked_frame)\n",
    "    \n",
    "    # 결과 프레임 표시\n",
    "    cv2.imshow('Masked Equalized and Labeled Video', labeled_frame)\n",
    "    \n",
    "    # 종료를 위한 키 입력 처리\n",
    "    if cv2.waitKey(1) & 0xFF == ord('q'):  # 10ms 대기 (더 빠르게 재생)\n",
    "        break"
   ]
  },
  {
   "cell_type": "code",
   "execution_count": 17,
   "id": "aae15867",
   "metadata": {},
   "outputs": [
    {
     "data": {
      "text/plain": [
       "-1"
      ]
     },
     "execution_count": 17,
     "metadata": {},
     "output_type": "execute_result"
    }
   ],
   "source": [
    "# 파일 닫기\n",
    "cap.release()\n",
    "cv2.destroyAllWindows()\n",
    "cv2.waitKey(1)"
   ]
  }
 ],
 "metadata": {
  "kernelspec": {
   "display_name": "Python 3 (ipykernel)",
   "language": "python",
   "name": "python3"
  },
  "language_info": {
   "codemirror_mode": {
    "name": "ipython",
    "version": 3
   },
   "file_extension": ".py",
   "mimetype": "text/x-python",
   "name": "python",
   "nbconvert_exporter": "python",
   "pygments_lexer": "ipython3",
   "version": "3.11.7"
  }
 },
 "nbformat": 4,
 "nbformat_minor": 5
}
