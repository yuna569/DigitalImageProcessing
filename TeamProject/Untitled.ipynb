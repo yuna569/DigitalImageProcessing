{
 "cells": [
  {
   "cell_type": "code",
   "execution_count": 1,
   "id": "542f9a78",
   "metadata": {},
   "outputs": [],
   "source": [
    "import cv2\n",
    "import numpy as np\n",
    "import matplotlib.pyplot as plt"
   ]
  },
  {
   "cell_type": "code",
   "execution_count": 2,
   "id": "ed5c3e8a",
   "metadata": {},
   "outputs": [],
   "source": [
    "def yellow_mask(path):\n",
    "    capture = cv2.VideoCapture(path)\n",
    "    \n",
    "    run, frame = capture.read()\n",
    "        \n",
    "    h, w, _ = frame.shape\n",
    "        \n",
    "    mask = np.zeros((h, w), dtype=np.uint8)\n",
    "        \n",
    "    for i in range(h):\n",
    "        for j in range(w):\n",
    "            b, g, r = frame[i, j]\n",
    "            if (r >= 230 and r <= 255 and g >= 150 and g <= 250 and b >= 100 and b <= 200):\n",
    "                mask[i, j] = 0\n",
    "            else:\n",
    "                mask[i, j] = 255\n",
    "                \n",
    "    return mask"
   ]
  },
  {
   "cell_type": "code",
   "execution_count": 3,
   "id": "f14a3864",
   "metadata": {},
   "outputs": [],
   "source": [
    "def load_video(path, ms=1): # ms : 프레임 하나당 기다리는 시간(밀리초)\n",
    "    \n",
    "    # Video Capture 객체 생성\n",
    "    capture = cv2.VideoCapture(path)\n",
    "    \n",
    "    # Frame을 저장할 List 선언\n",
    "    frames = []\n",
    "    \n",
    "    while capture.isOpened(): # Video Capture가 준비되었는지 확인\n",
    "        \n",
    "        run, frame = capture.read() # 다음 Frame 읽기\n",
    "        \n",
    "        if run: # Frame을 읽은 경우\n",
    "            '''\n",
    "            마스크를 적용하여 새로운 이미지 생성\n",
    "            new = cv2.bitwise_and(frame, frame, mask=mask)\n",
    "            '''\n",
    "            mask = yellow_mask(frame)\n",
    "            cv2.imshow(\"video\", mask)\n",
    "            cv2.waitKey(ms) # Millisecond 단위로 대기\n",
    "        else: # 재생이 완료되어 더 이상 Frame을 읽을 수 없는 경우\n",
    "            break\n",
    "        \n",
    "        # Frame List에 추가\n",
    "        frames.append(frame)\n",
    "\n",
    "    capture.release() # Capture 자원 반납\n",
    "    cv2.destroyAllWindows() # 창 제거\n",
    "    \n",
    "    return np.array(frames, dtype='uint8')"
   ]
  },
  {
   "cell_type": "code",
   "execution_count": 4,
   "id": "98695165",
   "metadata": {},
   "outputs": [
    {
     "ename": "error",
     "evalue": "OpenCV(4.9.0) :-1: error: (-5:Bad argument) in function 'VideoCapture'\n> Overload resolution failed:\n>  - Can't convert object to 'str' for 'filename'\n>  - VideoCapture() missing required argument 'apiPreference' (pos 2)\n>  - Argument 'index' is required to be an integer\n>  - VideoCapture() missing required argument 'apiPreference' (pos 2)\n",
     "output_type": "error",
     "traceback": [
      "\u001b[0;31m---------------------------------------------------------------------------\u001b[0m",
      "\u001b[0;31merror\u001b[0m                                     Traceback (most recent call last)",
      "Cell \u001b[0;32mIn[4], line 6\u001b[0m\n\u001b[1;32m      2\u001b[0m PATH \u001b[38;5;241m=\u001b[39m \u001b[38;5;124m\"\u001b[39m\u001b[38;5;124m/Users/yuna/Homework/IMG_3644.mov\u001b[39m\u001b[38;5;124m\"\u001b[39m\n\u001b[1;32m      4\u001b[0m \u001b[38;5;66;03m# Video 재생 및 반환 (Numpy Array)\u001b[39;00m\n\u001b[1;32m      5\u001b[0m \u001b[38;5;66;03m#video = load_video(path, ms=1)\u001b[39;00m\n\u001b[0;32m----> 6\u001b[0m load_video(PATH)\n",
      "Cell \u001b[0;32mIn[3], line 18\u001b[0m, in \u001b[0;36mload_video\u001b[0;34m(path, ms)\u001b[0m\n\u001b[1;32m     13\u001b[0m \u001b[38;5;28;01mif\u001b[39;00m run: \u001b[38;5;66;03m# Frame을 읽은 경우\u001b[39;00m\n\u001b[1;32m     14\u001b[0m \u001b[38;5;250m    \u001b[39m\u001b[38;5;124;03m'''\u001b[39;00m\n\u001b[1;32m     15\u001b[0m \u001b[38;5;124;03m    마스크를 적용하여 새로운 이미지 생성\u001b[39;00m\n\u001b[1;32m     16\u001b[0m \u001b[38;5;124;03m    new = cv2.bitwise_and(frame, frame, mask=mask)\u001b[39;00m\n\u001b[1;32m     17\u001b[0m \u001b[38;5;124;03m    '''\u001b[39;00m\n\u001b[0;32m---> 18\u001b[0m     mask \u001b[38;5;241m=\u001b[39m yellow_mask(frame)\n\u001b[1;32m     19\u001b[0m     cv2\u001b[38;5;241m.\u001b[39mimshow(\u001b[38;5;124m\"\u001b[39m\u001b[38;5;124mvideo\u001b[39m\u001b[38;5;124m\"\u001b[39m, mask)\n\u001b[1;32m     20\u001b[0m     cv2\u001b[38;5;241m.\u001b[39mwaitKey(ms) \u001b[38;5;66;03m# Millisecond 단위로 대기\u001b[39;00m\n",
      "Cell \u001b[0;32mIn[2], line 2\u001b[0m, in \u001b[0;36myellow_mask\u001b[0;34m(path)\u001b[0m\n\u001b[1;32m      1\u001b[0m \u001b[38;5;28;01mdef\u001b[39;00m \u001b[38;5;21myellow_mask\u001b[39m(path):\n\u001b[0;32m----> 2\u001b[0m     capture \u001b[38;5;241m=\u001b[39m cv2\u001b[38;5;241m.\u001b[39mVideoCapture(path)\n\u001b[1;32m      4\u001b[0m     run, frame \u001b[38;5;241m=\u001b[39m capture\u001b[38;5;241m.\u001b[39mread()\n\u001b[1;32m      6\u001b[0m     h, w, _ \u001b[38;5;241m=\u001b[39m frame\u001b[38;5;241m.\u001b[39mshape\n",
      "\u001b[0;31merror\u001b[0m: OpenCV(4.9.0) :-1: error: (-5:Bad argument) in function 'VideoCapture'\n> Overload resolution failed:\n>  - Can't convert object to 'str' for 'filename'\n>  - VideoCapture() missing required argument 'apiPreference' (pos 2)\n>  - Argument 'index' is required to be an integer\n>  - VideoCapture() missing required argument 'apiPreference' (pos 2)\n"
     ]
    }
   ],
   "source": [
    "# Video가 저장된 경로 입력\n",
    "PATH = \"/Users/yuna/Homework/IMG_3644.mov\"\n",
    "\n",
    "# Video 재생 및 반환 (Numpy Array)\n",
    "#video = load_video(path, ms=1)\n",
    "load_video(PATH)"
   ]
  }
 ],
 "metadata": {
  "kernelspec": {
   "display_name": "Python 3 (ipykernel)",
   "language": "python",
   "name": "python3"
  },
  "language_info": {
   "codemirror_mode": {
    "name": "ipython",
    "version": 3
   },
   "file_extension": ".py",
   "mimetype": "text/x-python",
   "name": "python",
   "nbconvert_exporter": "python",
   "pygments_lexer": "ipython3",
   "version": "3.11.7"
  }
 },
 "nbformat": 4,
 "nbformat_minor": 5
}
